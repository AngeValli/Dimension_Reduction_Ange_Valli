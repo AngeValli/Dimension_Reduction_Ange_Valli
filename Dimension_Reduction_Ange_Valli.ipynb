{
  "nbformat": 4,
  "nbformat_minor": 0,
  "metadata": {
    "accelerator": "GPU",
    "anaconda-cloud": {},
    "colab": {
      "name": "Dimension_Reduction_Ange_Valli.ipynb",
      "provenance": [],
      "collapsed_sections": []
    },
    "kernelspec": {
      "display_name": "Python 3",
      "language": "python",
      "name": "python3"
    },
    "language_info": {
      "codemirror_mode": {
        "name": "ipython",
        "version": 3
      },
      "file_extension": ".py",
      "mimetype": "text/x-python",
      "name": "python",
      "nbconvert_exporter": "python",
      "pygments_lexer": "ipython3",
      "version": "3.7.3-final"
    }
  },
  "cells": [
    {
      "cell_type": "markdown",
      "metadata": {
        "id": "f9il4xjexuzd"
      },
      "source": [
        "See original notebook : https://colab.research.google.com/drive/10CC4HaWagSZEMHLDYdK5LpL4O8YAdyVc"
      ]
    },
    {
      "cell_type": "markdown",
      "metadata": {
        "id": "-iPYC3StXkOk"
      },
      "source": [
        "# Dimension Reduction with Random Projections "
      ]
    },
    {
      "cell_type": "markdown",
      "metadata": {
        "id": "702eG40UXkOk"
      },
      "source": [
        "\n",
        "Authors: R. M. Gower, Ange Valli\n",
        "\n",
        "## Aim\n",
        "\n",
        "The aim of this material is to\n",
        "- to show that in practice dimension reduction can be used with no loss of accuracy on a classification problem\n",
        "- code efficient sparse random projections\n",
        "- apply sparse random projections together with knearest neighbors"
      ]
    },
    {
      "cell_type": "code",
      "metadata": {
        "id": "JGFgMRhWXkOm"
      },
      "source": [
        "%matplotlib inline"
      ],
      "execution_count": null,
      "outputs": []
    },
    {
      "cell_type": "code",
      "metadata": {
        "id": "WdNGR_HLXkOm"
      },
      "source": [
        "import numpy as np\n",
        "from scipy.linalg import norm\n",
        "import matplotlib.pyplot as plt"
      ],
      "execution_count": null,
      "outputs": []
    },
    {
      "cell_type": "code",
      "metadata": {
        "id": "FShsPRIDXkOn"
      },
      "source": [
        "from sklearn.datasets import load_svmlight_file\n",
        "from sklearn.model_selection import train_test_split\n",
        "from sklearn.linear_model import LogisticRegression    #Logistic Regression\n",
        "from sklearn.neighbors import KNeighborsClassifier \n",
        "\n",
        "def get_data(dataname):\n",
        "    data = load_svmlight_file(dataname)\n",
        "    return data[0], data[1]"
      ],
      "execution_count": null,
      "outputs": []
    },
    {
      "cell_type": "markdown",
      "metadata": {
        "id": "j4Fu0AqqXkOn"
      },
      "source": [
        "## Part 1 : LogisticRegression and random sparse projections: \n",
        "\n",
        "Use LogisticRegression classifier of Scikit-learn to experimentally confirm the corollary of Range Space Preserving Theorem and test random sparse projections\n",
        "\n",
        "### Corollary of Range Space Preserving Theorem  \n",
        "\n",
        "Let \n",
        "$$ X = [x_1, \\ldots, x_n] \\in \\mathbb{R}^{n\\times d},$$\n",
        "be our data matrix and let\n",
        "$$  X^\\top X  = [\\hat{x}_1, \\ldots, \\hat{x}_n]^\\top \\in \\mathbb{R}^{n\\times n}. $$\n",
        "We can find a solution to the following training problem\n",
        "$$ w^* \\in \\min_{w \\in \\mathbb{R}^d}  F(w) :=\\frac{1}{n}\\sum_{i=1}^n \\ell_i(\\langle x_i,w \\rangle) \\hspace{3cm} (I)$$\n",
        "by instead solving \n",
        "$$ \\hat{w}^* \\in \\min_{w \\in \\mathbb{R}^n} F_X(w) := \\frac{1}{n}\\sum_{i=1}^n \\ell_i(\\langle \\hat{x}_i,w \\rangle) \\hspace{3cm} (II)$$\n",
        "and  $ X \\hat{w}^*$ is a solution to $(I)$\n",
        "\n",
        "### End Corollary"
      ]
    },
    {
      "cell_type": "code",
      "metadata": {
        "id": "6u9J7tcznQc0"
      },
      "source": [
        "dataname = 'colon-cancer.bz2'"
      ],
      "execution_count": null,
      "outputs": []
    },
    {
      "cell_type": "code",
      "metadata": {
        "colab": {
          "base_uri": "https://localhost:8080/"
        },
        "id": "rlNMwBYRXkOn",
        "outputId": "1c0bb693-f7bb-4195-bb45-85196cd70d66"
      },
      "source": [
        "# download the colon-cancer data set from \n",
        "# https://www.csie.ntu.edu.tw/~cjlin/libsvmtools/datasets/binary/colon-cancer.bz2\n",
        "# Unpack and place in the same folder as this python notebook\n",
        "!wget https://www.csie.ntu.edu.tw/~cjlin/libsvmtools/datasets/binary/colon-cancer.bz2\n",
        "!bunzip2 colon-cancer.bz2\n",
        "XT, y = get_data(dataname)\n",
        "XT_train, XT_test, y_train, y_test = train_test_split(XT, y, test_size=0.33, random_state=42)\n",
        "n, d = XT_train.shape\n",
        "print('{n} data points and {d} features'.format(n = n,d =d))"
      ],
      "execution_count": null,
      "outputs": [
        {
          "output_type": "stream",
          "name": "stdout",
          "text": [
            "--2021-11-17 08:45:09--  https://www.csie.ntu.edu.tw/~cjlin/libsvmtools/datasets/binary/colon-cancer.bz2\n",
            "Resolving www.csie.ntu.edu.tw (www.csie.ntu.edu.tw)... 140.112.30.26\n",
            "Connecting to www.csie.ntu.edu.tw (www.csie.ntu.edu.tw)|140.112.30.26|:443... connected.\n",
            "HTTP request sent, awaiting response... 200 OK\n",
            "Length: 609480 (595K) [application/x-bzip2]\n",
            "Saving to: ‘colon-cancer.bz2’\n",
            "\n",
            "colon-cancer.bz2    100%[===================>] 595.20K   739KB/s    in 0.8s    \n",
            "\n",
            "2021-11-17 08:45:11 (739 KB/s) - ‘colon-cancer.bz2’ saved [609480/609480]\n",
            "\n",
            "bunzip2: Output file colon-cancer already exists.\n",
            "41 data points and 2000 features\n"
          ]
        }
      ]
    },
    {
      "cell_type": "code",
      "metadata": {
        "colab": {
          "base_uri": "https://localhost:8080/"
        },
        "id": "fpczUSc_XkOn",
        "outputId": "88a904c3-8173-487b-e8be-640d8ce725b4"
      },
      "source": [
        "C0 = 1.0000e+09# almost no regularization inverse of the regularization parameter, i.e, C = 1/lambda\n",
        "log_reg = LogisticRegression(C = C0) # , multi_class = \"multinomial\"\n",
        "log_reg.fit(XT_train, y_train)\n",
        "print('Accuracy on the training set: {:.3f}'.format(log_reg.score(XT_train,y_train)))\n",
        "print('Accuracy on the test set: {:.3f}'.format(log_reg.score(XT_test,y_test)))"
      ],
      "execution_count": null,
      "outputs": [
        {
          "output_type": "stream",
          "text": [
            "Accuracy on the training set: 1.000\n",
            "Accuracy on the test set: 0.619\n"
          ],
          "name": "stdout"
        }
      ]
    },
    {
      "cell_type": "code",
      "metadata": {
        "colab": {
          "base_uri": "https://localhost:8080/"
        },
        "id": "O07dsQcTyIvK",
        "outputId": "896d4020-2831-463e-c4a1-afea21ae8c52"
      },
      "source": [
        "# Using XtX instead\n",
        "# define a new dataset\n",
        "XTX_train, XTX_test, y_hat_train, y_hat_test = train_test_split(np.dot(XT,np.transpose(XT)), y, test_size=0.33, random_state=42)\n",
        "n_hat, d_hat = XTX_train.shape\n",
        "print('{n} data points and {d} features'.format(n = n_hat,d =d_hat))\n",
        "\n",
        "log_reg2 = LogisticRegression(C = C0) # , multi_class = \"multinomial\"\n",
        "log_reg2.fit(XTX_train, y_hat_train)\n",
        "print('Accuracy on the training set fot Xt: {:.3f}'.format(log_reg2.score(XTX_train, y_hat_train)))\n",
        "print('Accuracy on the test set: {:.3f}'.format(log_reg2.score(XTX_test, y_hat_test)))"
      ],
      "execution_count": null,
      "outputs": [
        {
          "output_type": "stream",
          "text": [
            "41 data points and 62 features\n",
            "Accuracy on the training set fot Xt: 1.000\n",
            "Accuracy on the test set: 0.571\n"
          ],
          "name": "stdout"
        }
      ]
    },
    {
      "cell_type": "markdown",
      "metadata": {
        "id": "gvg9fEzDrb7C"
      },
      "source": [
        "By setting the regularization parameter close to zero ($C = 10^9$) in LogisticRegression, the score obtained by training using $X$ and $X^\\top X$ is the same. We find $1.0$ accuracy in both cases. "
      ]
    },
    {
      "cell_type": "markdown",
      "metadata": {
        "id": "US01fZwRE3Er"
      },
      "source": [
        "We compute a solution $w^*_1$  by directly solving $(I)$"
      ]
    },
    {
      "cell_type": "code",
      "metadata": {
        "colab": {
          "base_uri": "https://localhost:8080/"
        },
        "id": "1PqCvFF2XkOn",
        "outputId": "1fa376b4-6019-4163-d015-28779899de87"
      },
      "source": [
        "w_star = log_reg.coef_\n",
        "print(\"Solution obtained for (I) :{}\".format(w_star))\n",
        "\n",
        "# Compare this $w^*_1$ to the recovered solution $X^\\top \\hat{w}^*$.\n",
        "Xw_hat = np.dot(log_reg2.coef_,  XT.todense())\n",
        "print(\"X.w_hat* : {}\".format(Xw_hat))\n",
        "\n",
        "# Are they the same? Justify based on Corollary.\n",
        "print(\"Are they the same ? {}\".format(np.mean(w_star - Xw_hat)==0))\n",
        "#############"
      ],
      "execution_count": null,
      "outputs": [
        {
          "output_type": "stream",
          "text": [
            "Solution obtained for (I) :[[ 0.05698562 -0.00462794 -0.02875027 ... -0.08827836  0.03863623\n",
            "  -0.01783449]]\n",
            "X.w_hat* : [[ 0.1216772   0.02080941 -0.03861272 ... -0.17135291  0.17468736\n",
            "   0.03159193]]\n",
            "Are they the same ? False\n"
          ],
          "name": "stdout"
        }
      ]
    },
    {
      "cell_type": "markdown",
      "metadata": {
        "id": "Q6dUq33g13mh"
      },
      "source": [
        "We compare this $w^*_1$ to the recovered solution $X^\\top \\hat{w}^*$. We show $w^*_1$ and $X^\\top \\hat{w}^*$ are different vectors.\n",
        "\n",
        "In fact, they are two vectors which are two different minimizers of the min problems. This is coherent with the fact that the representation changed between the two problems.\n"
      ]
    },
    {
      "cell_type": "markdown",
      "metadata": {
        "id": "j3z0QhN-Gu5v"
      },
      "source": [
        "Now, we use a random generated gaussian matrix $W \\in\\mathbb{R}^{d\\times r}$  and project the data matrix $X \\rightarrow W^\\top X$. We test for different values of $r$ and\n",
        "apply logistic regression to the resulting projected matrix."
      ]
    },
    {
      "cell_type": "code",
      "metadata": {
        "colab": {
          "base_uri": "https://localhost:8080/",
          "height": 466
        },
        "id": "mNishf-KXkOo",
        "outputId": "e25d88d1-5a9e-4dc6-b496-b39c22570e06"
      },
      "source": [
        "from sklearn.random_projection import GaussianRandomProjection\n",
        "## Choose a range of different projected dimensions to test\n",
        "## Suggested range of projected dimensions:\n",
        "upperbnd = d\n",
        "project_dimensions = range(1,upperbnd,int((upperbnd )/10))\n",
        "#############\n",
        "test_accuracy = []\n",
        "training_accuracy = []\n",
        "\n",
        "for r in project_dimensions: \n",
        "    #    project the data matrix $X \\rightarrow XW$ using Gaussian and fit, \n",
        "    #    transform and score using Logstic Regression\n",
        "\n",
        "    transformer = GaussianRandomProjection(r)\n",
        "    X_new = transformer.fit_transform(XT)\n",
        "\n",
        "    XT_train, XT_test, y_train, y_test = train_test_split(X_new, y, test_size=0.33, random_state=42)\n",
        "    log_reg = LogisticRegression(C = C0) \n",
        "    log_reg.fit(XT_train, y_train)\n",
        "\n",
        "    # trainscore\n",
        "    trainscore = log_reg.score(XT_train, y_train)\n",
        "    training_accuracy.append(trainscore)\n",
        "\n",
        "    # testscore \n",
        "    testscore= log_reg.score(XT_test, y_test)\n",
        "    test_accuracy.append(testscore)\n",
        "    #############\n",
        "    print (\"project dimension %4d gives: (train, test) =  (%.4f, %.4f)\" % (r, trainscore,testscore))\n",
        "#    coef_recover= log_regt.coef_.dot(X_train.transpose())\n",
        "\n",
        "plt.plot(project_dimensions,training_accuracy, label='Accuracy of the training set')\n",
        "plt.plot(project_dimensions,test_accuracy, label='Accuracy of the test set')\n",
        "plt.ylabel('Accuracy')\n",
        "plt.xlabel('Projected Dimension')\n",
        "plt.legend()\n",
        "index_max = np.argmax(test_accuracy)\n",
        "print(\"Best score was for r =%5d with: (train, test) =  (%.4f, %.4f)\"% (project_dimensions[index_max], training_accuracy[index_max],test_accuracy[index_max]))"
      ],
      "execution_count": null,
      "outputs": [
        {
          "output_type": "stream",
          "text": [
            "project dimension    1 gives: (train, test) =  (0.7317, 0.5714)\n",
            "project dimension  201 gives: (train, test) =  (1.0000, 0.5714)\n",
            "project dimension  401 gives: (train, test) =  (1.0000, 0.7619)\n",
            "project dimension  601 gives: (train, test) =  (1.0000, 0.6667)\n",
            "project dimension  801 gives: (train, test) =  (1.0000, 0.6667)\n",
            "project dimension 1001 gives: (train, test) =  (1.0000, 0.6190)\n",
            "project dimension 1201 gives: (train, test) =  (1.0000, 0.5714)\n",
            "project dimension 1401 gives: (train, test) =  (1.0000, 0.6667)\n",
            "project dimension 1601 gives: (train, test) =  (1.0000, 0.6190)\n",
            "project dimension 1801 gives: (train, test) =  (1.0000, 0.6190)\n",
            "Best score was for r =  401 with: (train, test) =  (1.0000, 0.7619)\n"
          ],
          "name": "stdout"
        },
        {
          "output_type": "display_data",
          "data": {
            "image/png": "[encoded data removed]",
            "text/plain": [
              "<Figure size 432x288 with 1 Axes>"
            ]
          },
          "metadata": {
            "tags": []
          }
        }
      ]
    },
    {
      "cell_type": "markdown",
      "metadata": {
        "id": "YuK7ARzbrr9m"
      },
      "source": [
        "For the training set, a projected dimension $r \\geqslant 250$ is needed to get the same accuracy (1.0) as before. \n",
        "Regarding the test set, we have in general the same accuracies (around $0.6$), sometimes better for some values of $r$. \n",
        "\n",
        "We can also notice that $r$ increasing does not always means a better testing accuracy."
      ]
    },
    {
      "cell_type": "markdown",
      "metadata": {
        "id": "2mhnKj3FXkOo"
      },
      "source": [
        "## Part 2:\n",
        "\n",
        "Instead of using $X \\rightarrow W^\\top X$, we use $X^\\top \\rightarrow X^\\top W$\n",
        "\n",
        "\n",
        "\n",
        "Now we will train a model using a large text based data set. We need to code the following random transform $W \\in \\mathbb{R}^{d \\times r}$ that takes a sparsity parameter $s$ as an input and outputs a matrix\n",
        "\n",
        "$$ \n",
        "W_{ij}  = \\sqrt{\\frac{s}{r}}\n",
        "\\begin{cases}\n",
        "1 \\quad & \\mbox{with probability }\\frac{1}{2s} \\\\\n",
        "0 \\quad & \\mbox{with probability }1-\\frac{1}{s} \\\\\n",
        "-1 \\quad & \\mbox{with probability }\\frac{1}{2s} \n",
        "\\end{cases}\n",
        "$$\n",
        "\n",
        "We will test if random projections are able to preserve pairwise distances by applying K-Neighrest Neighbors to projected data. \n"
      ]
    },
    {
      "cell_type": "code",
      "metadata": {
        "id": "Tit8tL3QXkOo"
      },
      "source": [
        "import scipy\n",
        "from sklearn.utils.extmath import safe_sparse_dot   ## <-- I recommend using this function\n",
        "from sklearn.utils.random import sample_without_replacement  ## <-- I recommend using this function\n",
        "import random"
      ],
      "execution_count": null,
      "outputs": []
    },
    {
      "cell_type": "markdown",
      "metadata": {
        "id": "aTsBSi_6J5sC"
      },
      "source": [
        "The following function Generate_Sparse_Transform$(s,r,d)$ takes at inputs the sparsity parameter  $s$, the input dimension $d \\in \\mathbb{N}$ and the lower dimensional projected dimension $r \\in \\mathbb{N}$. It gives as outputs the matrix $W$ stored in an efficient sparse format, the CSC format (scipy.sparse.csc_matrix)"
      ]
    },
    {
      "cell_type": "code",
      "metadata": {
        "id": "IvjZviiGJmEp"
      },
      "source": [
        "def GenerateSparseTransform(s,r,d):\n",
        "    \"\"\" returns W : sparse matrix \"\"\"\n",
        "\n",
        "    # ##### SUBOPTIMAL BUT WORKS FOR 1st DATA #######\n",
        "    # W = np.zeros((d,r))\n",
        "    # for j in range(r):\n",
        "    #   for i in range(d):\n",
        "    #     proba = random.random()\n",
        "    #     if proba <= 1/(2*s):\n",
        "    #       W[i][j]= np.sqrt(s/r)\n",
        "    #     elif proba >= 1- 1/(2*s):\n",
        "    #       W[i][j]= -np.sqrt(s/r)\n",
        "    #     # else stays at zero\n",
        "\n",
        "    # # sample without replacement 1/(2s)*d*r indices to change\n",
        "    # i_indices = sample_without_replacement(d, int(d/s)) # get row indices to put non null coeffs\n",
        "    # j_indices = sample_without_replacement(r, int(r/s) )\n",
        "\n",
        "    # We used random randint instead to make sure the array of indices is of data shape\n",
        "    data = np.sqrt(s/r)* np.array([1,-1]*int(d*r/(2*s)))\n",
        "    np.random.shuffle(data)\n",
        "    i_indices = np.random.randint(d,size=data.shape) # get where to fullfill W\n",
        "    j_indices = np.random.randint(r,size=data.shape)\n",
        "\n",
        "    return scipy.sparse.csc_matrix((data,(i_indices,j_indices)),(d,r))\n",
        "    #return scipy.sparse.csc_matrix(W)"
      ],
      "execution_count": null,
      "outputs": []
    },
    {
      "cell_type": "markdown",
      "metadata": {
        "id": "pbC8YjHdKHe5"
      },
      "source": [
        "The function Apply_Sparse_Transform$(R,X)$ takes as inputs the random transform $W$ as generated by  Generate\\_sparse\\_transform$(s,r,d)$, a given data matrix $X^\\top \\in \\mathbb{R}^{n\\times d}$. The output is $X^\\top W$. An efficient implementation using sparse matrix properties is necessary to prevent running out of memory."
      ]
    },
    {
      "cell_type": "code",
      "metadata": {
        "id": "bjGZUgaDJmM4"
      },
      "source": [
        "def ApplySparseTransform(W,X_):\n",
        "#     W   : Sparse randomly generated matrix of size d by r\n",
        "#     X_  : Data matrix to be compressed, of size n by d\n",
        "#    NOTE: The dimensions of W and X_ are such that the product X_*W is defined (which is different that what we used in class)\n",
        "    Xtransformed = safe_sparse_dot(X_, W, True) # return a dense matrix \n",
        "    return Xtransformed"
      ],
      "execution_count": null,
      "outputs": []
    },
    {
      "cell_type": "markdown",
      "metadata": {
        "id": "iUs9WJ8sXkOo"
      },
      "source": [
        "## Load and test dataset *anthracyclineTaxaneChemotherapy*"
      ]
    },
    {
      "cell_type": "markdown",
      "metadata": {
        "id": "NDvIdwaSMANL"
      },
      "source": [
        "We load the dataset $X^\\top$ on anthracyclineTaxaneChemotherapy."
      ]
    },
    {
      "cell_type": "code",
      "metadata": {
        "id": "b2kf0vNg2c4A"
      },
      "source": [
        "import pandas as pd"
      ],
      "execution_count": null,
      "outputs": []
    },
    {
      "cell_type": "code",
      "metadata": {
        "id": "CVcYafFVXkOp"
      },
      "source": [
        "# Use fetch_openml\n",
        "from sklearn.datasets import fetch_openml\n",
        "chemo = fetch_openml(name='anthracyclineTaxaneChemotherapy')"
      ],
      "execution_count": null,
      "outputs": []
    },
    {
      "cell_type": "code",
      "metadata": {
        "id": "HolcnWiTLPf6"
      },
      "source": [
        "# In case of failure in fetch_openml, we download the dataset in arff format and load it using the following code\n",
        "from scipy.io import arff\n",
        "!wget https://www.openml.org/data/download/1390177/phpCLGrjq\n",
        "dataset = arff.loadarff('phpCLGrjq.arff')\n",
        "Xdf = pd.DataFrame(dataset[0])\n",
        "Xy = Xdf.to_numpy()\n",
        "n_rows, n_cols = Xy.shape\n",
        "XT = Xy[:,:-1]\n",
        "XT = np.float_(XT)\n",
        "y = Xy[:,-1]\n",
        "y = (np.int_(y))*2-3"
      ],
      "execution_count": null,
      "outputs": []
    },
    {
      "cell_type": "code",
      "metadata": {
        "id": "c46ZqPIuXkOp"
      },
      "source": [
        "# Split test and training. Only use 20% of data for testing because data set is small. \n",
        "XT_train, XT_test, y_train, y_test = train_test_split(XT, y, test_size=0.20, random_state=42) \n",
        "n, d = XT_train.shape\n",
        "print('{n} training data points and {d} features'.format(n = n,d =d))"
      ],
      "execution_count": null,
      "outputs": []
    },
    {
      "cell_type": "markdown",
      "metadata": {
        "id": "mPT9Ul7tMSr9"
      },
      "source": [
        "Fit, transform and score sklearn's KNeighborsClassifier on this data"
      ]
    },
    {
      "cell_type": "code",
      "metadata": {
        "colab": {
          "base_uri": "https://localhost:8080/"
        },
        "id": "GYIz1q_VXkOp",
        "outputId": "3c12ce90-aded-43ca-ed3b-25c111e6a9eb"
      },
      "source": [
        "n_neighbors = 2\n",
        " \n",
        "# Fit knn Classifier KNeighborsClassifier on the training data. Print the training and test error\n",
        "neigh = KNeighborsClassifier(n_neighbors)\n",
        "neigh.fit(XT_train, y_train)\n",
        "training_score = neigh.score(XT_train, y_train)\n",
        "# test score\n",
        "test_score = neigh.score(XT_test, y_test)\n",
        "\n",
        "print(\"Training score : {}\".format(training_score))\n",
        "print(\"Test score : {}\".format(test_score))\n",
        "#############"
      ],
      "execution_count": null,
      "outputs": [
        {
          "output_type": "stream",
          "text": [
            "Training score : 0.84251968503937\n",
            "Test score : 0.5625\n"
          ],
          "name": "stdout"
        }
      ]
    },
    {
      "cell_type": "markdown",
      "metadata": {
        "id": "Av8mQJirOEY0"
      },
      "source": [
        "Now, we first randomly project that data using $X^\\top$ -> $X^\\top W$ before the steps of fit, transform and score. We can use different values of the sparsity parameter $s$ and projected dimension parameter $r$. Values for s such as $s = \\sqrt{r}$, $s= \\log(r)$ or simply $s=20$ often works well."
      ]
    },
    {
      "cell_type": "code",
      "metadata": {
        "colab": {
          "base_uri": "https://localhost:8080/",
          "height": 466
        },
        "id": "hYTwwbX2XkOq",
        "outputId": "f193a4fb-f290-4992-9183-7095ff725e00"
      },
      "source": [
        "test_accuracy = []\n",
        "training_accuracy = []\n",
        "n_neighbors = 2\n",
        "\n",
        "upperbnd = int(min(10*n,d/2))\n",
        "minbnd = int(max(n/20,d/2000))\n",
        "project_dimensions = range(minbnd,upperbnd,int((upperbnd -minbnd)/10))\n",
        "\n",
        " for r in project_dimensions:    \n",
        "    s = np.sqrt(r)\n",
        "\n",
        "    ## Project after splitting\n",
        "    W = GenerateSparseTransform(s,r,d)\n",
        "    X_proj_train = ApplySparseTransform(W,XT_train)\n",
        "    X_proj_test = ApplySparseTransform(W,XT_test)\n",
        "\n",
        "    neigh = KNeighborsClassifier(n_neighbors)\n",
        "\n",
        "    neigh.fit(X_proj_train, y_train)\n",
        "    trainscore = neigh.score(X_proj_train, y_train)\n",
        "    training_accuracy.append(trainscore)\n",
        "\n",
        "    testscore = neigh.score(X_proj_test, y_test)\n",
        "    test_accuracy.append(testscore)\n",
        "\n",
        "    print (\"project dim %5d gives: (train, test) =  (%.4f, %.4f)\" % (r, trainscore,testscore))\n",
        "\n",
        "list_proj_dims = list(project_dimensions)\n",
        "plt.plot(list_proj_dims,training_accuracy, label='Accuracy of the training set')\n",
        "plt.plot(list_proj_dims,test_accuracy, label='Accuracy of the test set')\n",
        "plt.ylabel('Accuracy')\n",
        "plt.xlabel('Projected Dimension')\n",
        "plt.legend()\n",
        "index_max = np.argmax(test_accuracy)\n",
        "print(\"Best score was for r =%5d with: (train, test) =  (%.4f, %.4f)\"% (list_proj_dims[index_max], training_accuracy[index_max],test_accuracy[index_max]))"
      ],
      "execution_count": null,
      "outputs": [
        {
          "output_type": "stream",
          "text": [
            "project dim    30 gives: (train, test) =  (0.8110, 0.5625)\n",
            "project dim   154 gives: (train, test) =  (0.7953, 0.5938)\n",
            "project dim   278 gives: (train, test) =  (0.8740, 0.5625)\n",
            "project dim   402 gives: (train, test) =  (0.8110, 0.5625)\n",
            "project dim   526 gives: (train, test) =  (0.8976, 0.5312)\n",
            "project dim   650 gives: (train, test) =  (0.8425, 0.5938)\n",
            "project dim   774 gives: (train, test) =  (0.8268, 0.5938)\n",
            "project dim   898 gives: (train, test) =  (0.8504, 0.5625)\n",
            "project dim  1022 gives: (train, test) =  (0.8189, 0.6250)\n",
            "project dim  1146 gives: (train, test) =  (0.8346, 0.7188)\n",
            "Best score was for r = 1146 with: (train, test) =  (0.8346, 0.7188)\n"
          ],
          "name": "stdout"
        },
        {
          "output_type": "display_data",
          "data": {
            "image/png": "[encoded data removed]",
            "text/plain": [
              "<Figure size 432x288 with 1 Axes>"
            ]
          },
          "metadata": {
            "tags": []
          }
        }
      ]
    },
    {
      "cell_type": "markdown",
      "metadata": {
        "id": "_QUqxYt2XkOq"
      },
      "source": [
        "## Load and test dataset *sector.scale*"
      ]
    },
    {
      "cell_type": "markdown",
      "metadata": {
        "id": "4P5qxoH2O0Lb"
      },
      "source": [
        "Now, we load the dataset $X^\\top$ on *sector.scale* which is larger than the previous dataset, and we repeat the same steps."
      ]
    },
    {
      "cell_type": "code",
      "metadata": {
        "colab": {
          "base_uri": "https://localhost:8080/"
        },
        "id": "UPS-w5OiXkOq",
        "outputId": "97a244ac-e02d-4b9f-9630-25fbc3439a48"
      },
      "source": [
        "!wget https://www.csie.ntu.edu.tw/~cjlin/libsvmtools/datasets/multiclass/sector/sector.scale.bz2\n",
        "dataname = \"sector.scale.bz2\"  \n",
        "X, y = get_data(dataname)\n",
        "n, d = X.shape\n",
        "print('{n} data points and {d} features'.format(n = n,d =d))"
      ],
      "execution_count": null,
      "outputs": [
        {
          "output_type": "stream",
          "text": [
            "6412 data points and 55197 features\n"
          ],
          "name": "stdout"
        }
      ]
    },
    {
      "cell_type": "code",
      "metadata": {
        "id": "O9ZSdAReXkOq"
      },
      "source": [
        "# split test and training \n",
        "X_train, X_test, y_train, y_test = train_test_split(X, y, test_size=0.33, random_state=42)\n",
        "n, d = X_train.shape\n",
        "print('{n} trainig data points and {d} features'.format(n = n,d =d))"
      ],
      "execution_count": null,
      "outputs": []
    },
    {
      "cell_type": "code",
      "metadata": {
        "colab": {
          "base_uri": "https://localhost:8080/"
        },
        "id": "wWsc1cclc_TT",
        "outputId": "a2782ecd-7d63-4d0b-9f0c-f90a9205ad18"
      },
      "source": [
        "# fit for harder dataset\n",
        "n_neighbors =1\n",
        "\n",
        "neigh = KNeighborsClassifier(n_neighbors)\n",
        "neigh.fit(X_train, y_train)\n",
        "training_score = neigh.score(X_train, y_train)\n",
        "# test score\n",
        "test_score = neigh.score(X_test, y_test)\n",
        "\n",
        "print(\"Training score : {}\".format(training_score))\n",
        "print(\"Test score : {}\".format(test_score))\n",
        "#############"
      ],
      "execution_count": null,
      "outputs": [
        {
          "output_type": "stream",
          "text": [
            "Training score : 1.0\n",
            "Test score : 0.8827977315689981\n"
          ],
          "name": "stdout"
        }
      ]
    },
    {
      "cell_type": "markdown",
      "metadata": {
        "id": "KJ5zBeTWPxmQ"
      },
      "source": [
        "Because of volume issues, we only test project dimensions $r \\leqslant \\lfloor(min(2*n,\\frac{d}{2}) \\rfloor$"
      ]
    },
    {
      "cell_type": "code",
      "metadata": {
        "colab": {
          "background_save": true,
          "base_uri": "https://localhost:8080/"
        },
        "id": "bcjaH02rXkOr",
        "outputId": "1fb2e5fb-20a3-4a68-e415-477a217a60e7"
      },
      "source": [
        "test_accuracy = []\n",
        "training_accuracy = []\n",
        "n_neighbors = 1   ## <-- I recommend using this\n",
        "knn = KNeighborsClassifier(n_neighbors=n_neighbors)\n",
        "\n",
        "upperbnd = int(min(2*n,d/2)) # Only test project dimensions r <= int(min(2*n,d/2))\n",
        "minbnd = int(max(n/20,d/2000))\n",
        "project_dimensions = range(minbnd,upperbnd,int((upperbnd -minbnd)/10))\n",
        "\n",
        "for r in project_dimensions:  \n",
        "\n",
        "    s = np.sqrt(r)\n",
        "    W = GenerateSparseTransform(s,r,d)\n",
        "\n",
        "    Xt_train = ApplySparseTransform(W,X_train)\n",
        "    Xt_test =  ApplySparseTransform(W,X_test)\n",
        "\n",
        "\n",
        "    knn.fit(Xt_train, y_train)\n",
        "    trainscore = knn.score(Xt_train, y_train)\n",
        "    training_accuracy.append(trainscore)\n",
        "\n",
        "    testscore = knn.score(Xt_test, y_test)\n",
        "    test_accuracy.append(testscore)\n",
        "\n",
        "    #############\n",
        "    print (\"project dim %5d gives: (train, test) =  (%.4f, %.4f)\" % (r, trainscore,testscore))\n",
        "\n",
        "list_proj_dims = list(project_dimensions)\n",
        "plt.plot(list_proj_dims,training_accuracy, label='Accuracy of the training set')\n",
        "plt.plot(list_proj_dims,test_accuracy, label='Accuracy of the test set')\n",
        "plt.ylabel('Accuracy')\n",
        "plt.xlabel('Projected Dimension')\n",
        "plt.legend()\n",
        "index_max = np.argmax(test_accuracy)\n",
        "print(\"Best score was for r =%5d with: (train, test) =  (%.4f, %.4f)\"% (list_proj_dims[index_max], training_accuracy[index_max],test_accuracy[index_max]))"
      ],
      "execution_count": null,
      "outputs": [
        {
          "output_type": "stream",
          "text": [
            "project dim   214 gives: (train, test) =  (1.0000, 0.7684)\n",
            "project dim  1051 gives: (train, test) =  (1.0000, 0.8634)\n",
            "project dim  1888 gives: (train, test) =  (1.0000, 0.8748)\n",
            "project dim  2725 gives: (train, test) =  (1.0000, 0.8767)\n",
            "project dim  3562 gives: (train, test) =  (1.0000, 0.8785)\n",
            "project dim  4399 gives: (train, test) =  (1.0000, 0.8781)\n",
            "project dim  5236 gives: (train, test) =  (1.0000, 0.8790)\n",
            "project dim  6073 gives: (train, test) =  (1.0000, 0.8776)\n",
            "project dim  6910 gives: (train, test) =  (1.0000, 0.8762)\n",
            "project dim  7747 gives: (train, test) =  (1.0000, 0.8804)\n",
            "project dim  8584 gives: (train, test) =  (1.0000, 0.8809)\n",
            "Best score was for r = 8584 with: (train, test) =  (1.0000, 0.8809)\n"
          ],
          "name": "stdout"
        },
        {
          "output_type": "display_data",
          "data": {
            "image/png": "[encoded data removed]",
            "text/plain": [
              "<Figure size 432x288 with 1 Axes>"
            ]
          },
          "metadata": {
            "tags": []
          }
        }
      ]
    },
    {
      "cell_type": "markdown",
      "metadata": {
        "id": "QHi3lSG2wC_r"
      },
      "source": [
        "By writing $W$ matrix randomly, we were able to apply a transform on large datasets.\n",
        "Also, we saw that random projections are able to preserve pairwise distances by applying K-Neighrest Neighbors after projecting the training and testing data, obtaining similar testing score as without the projection.\n"
      ]
    },
    {
      "cell_type": "markdown",
      "metadata": {
        "id": "SZ-cyOioXkOr"
      },
      "source": [
        "## Part 3 : the Johnson-Lindenstrauss Lemma\n",
        "\n",
        "Using the Jonhson-Lindenstrauss Lemma, we can have an estimate for the projected dimension using\n",
        "\n",
        "$$r = \\frac{1}{\\epsilon^2}\\log(\\frac{n}{\\delta}) $$\n",
        "\n",
        "We test for each of the above datasets with $\\epsilon = 0.05 = \\delta$ and compare to the previous results. "
      ]
    },
    {
      "cell_type": "code",
      "metadata": {
        "id": "yCJ16BBi83mu"
      },
      "source": [
        "def r(epsilon, n, delta):\n",
        "  return 1/ epsilon**2 * np.log(n/delta)"
      ],
      "execution_count": null,
      "outputs": []
    },
    {
      "cell_type": "code",
      "metadata": {
        "id": "fyFPLrVmZ92c"
      },
      "source": [
        "# first dataset :\n",
        "dataset = arff.loadarff('phpCLGrjq.arff')\n",
        "Xdf = pd.DataFrame(dataset[0])\n",
        "Xy = Xdf.to_numpy()\n",
        "n_rows, n_cols = Xy.shape\n",
        "XT = Xy[:,:-1]\n",
        "X_chemo = np.float_(XT)\n",
        "y = Xy[:,-1]\n",
        "y_chemo = (np.int_(y))*2-3\n",
        "\n",
        "X_chemo_train, X_chemo_test, y_chemo_train, y_chemo_test = train_test_split(X_chemo, y_chemo, test_size=0.33, random_state=42)\n",
        "n_chemo, d_chemo = X_chemo_train.shape\n",
        "\n",
        "# second dataset\n",
        "dataname = \"sector.scale.bz2\"  \n",
        "X_sector, y_sector = get_data(dataname)\n",
        "X_sec_train, X_sec_test, y_sec_train, y_sec_test = train_test_split(X_sector, y_sector, test_size=0.33, random_state=42)\n",
        "n_sector, d_sector = X_sec_train.shape"
      ],
      "execution_count": null,
      "outputs": []
    },
    {
      "cell_type": "code",
      "metadata": {
        "colab": {
          "base_uri": "https://localhost:8080/"
        },
        "id": "KY2a2Cg1Z3ie",
        "outputId": "bb70bb32-6319-4bdf-8bc9-6e5aef300a52"
      },
      "source": [
        "print(\"Estimated projected value for first dataset (chemo)\", r(0.05, n_chemo, 0.05))\n",
        "print(\"Estimated projected value for second dataset (sector scale)\", r(0.05, n_sector, 0.05))"
      ],
      "execution_count": null,
      "outputs": [
        {
          "output_type": "stream",
          "text": [
            "Estimated projected value for first dataset (chemo) 3063.668547066423\n",
            "Estimated projected value for second dataset (sector scale) 4544.468763897076\n"
          ],
          "name": "stdout"
        }
      ]
    },
    {
      "cell_type": "code",
      "metadata": {
        "colab": {
          "base_uri": "https://localhost:8080/"
        },
        "id": "zVpmwYfm3yeR",
        "outputId": "31edb467-71c6-4dbe-d650-6be1f2ad49bc"
      },
      "source": [
        "# Test for first dataset \n",
        "r_chemo = r(0.05, n_chemo, 0.05)\n",
        "s_chemo = np.sqrt(r_chemo)\n",
        "\n",
        "W_che = GenerateSparseTransform(s_chemo,int(r_chemo),d_chemo)\n",
        "\n",
        "Xt_train = ApplySparseTransform(W_che,X_chemo_train)\n",
        "Xt_test =  ApplySparseTransform(W_che,X_chemo_test)\n",
        "\n",
        "knn = KNeighborsClassifier(n_neighbors=2)\n",
        "\n",
        "knn.fit(Xt_train, y_chemo_train)\n",
        "trainscore = knn.score(Xt_train, y_chemo_train)\n",
        "training_accuracy.append(trainscore)\n",
        "print(\"Training\", trainscore)\n",
        "\n",
        "testscore = knn.score(Xt_test, y_chemo_test)\n",
        "test_accuracy.append(testscore)\n",
        "print(\"Testing\", testscore)"
      ],
      "execution_count": null,
      "outputs": [
        {
          "output_type": "stream",
          "text": [
            "Training 0.8113207547169812\n",
            "Testing 0.6037735849056604\n"
          ],
          "name": "stdout"
        }
      ]
    },
    {
      "cell_type": "code",
      "metadata": {
        "id": "1tvG2tgpqxjR",
        "colab": {
          "base_uri": "https://localhost:8080/"
        },
        "outputId": "9ac59a0b-c4df-4952-9358-66a03821e3e9"
      },
      "source": [
        "# Test for second dataset \n",
        "r_sector = r(0.05, n_sector, 0.05)\n",
        "s_sector = np.sqrt(r_sector)\n",
        "\n",
        "W_sec = GenerateSparseTransform(s_sector,int(r_sector),d_sector)\n",
        "\n",
        "Xt_train = ApplySparseTransform(W_sec,X_sec_train)\n",
        "Xt_test =  ApplySparseTransform(W_sec,X_sec_test)\n",
        "\n",
        "knn = KNeighborsClassifier(n_neighbors=2)\n",
        "\n",
        "knn.fit(Xt_train, y_sec_train)\n",
        "trainscore = knn.score(Xt_train, y_sec_train)\n",
        "training_accuracy.append(trainscore)\n",
        "print(\"Training\", trainscore)\n",
        "testscore = knn.score(Xt_test, y_sec_test)\n",
        "test_accuracy.append(testscore)\n",
        "print(\"Testing\", testscore)"
      ],
      "execution_count": null,
      "outputs": [
        {
          "output_type": "stream",
          "text": [
            "Training 0.9350558659217877\n",
            "Testing 0.8482986767485823\n"
          ],
          "name": "stdout"
        }
      ]
    },
    {
      "cell_type": "markdown",
      "metadata": {
        "id": "aFOw6WOB7UJ5"
      },
      "source": [
        "Thanks to this method, we find in general a better testing accuracy with this value of $r$ than the maximum of the bounds we obtain in Part 2. \n"
      ]
    }
  ]
}